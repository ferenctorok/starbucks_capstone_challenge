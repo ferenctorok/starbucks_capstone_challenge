{
 "cells": [
  {
   "cell_type": "markdown",
   "metadata": {},
   "source": [
    "# Feature engineering notebook\n",
    "\n",
    "In this notebook the feature engineering part of the data preprocessing takes place. In the data exploration notebook we have found some interesting features about the data, checked the distributions and found outlier datapoints which possibly would disturb the learning. In this notebook we carry out some preprocessing to remedy the issues found with the dataset, construct the features vector - label pairs and to split the dataset into train, validation and test sets."
   ]
  },
  {
   "cell_type": "markdown",
   "metadata": {},
   "source": [
    "## Structure\n",
    "\n",
    "The following preprocessing steps are going to be carried out:\n",
    "* converting the lengths of the offers into hours\n",
    "* extracting features from the transcript datasets value column\n",
    "* Removing the people and all of their transactions from the data who are considered to be outliers based on their total spent money during the 30 day period\n",
    "* Encode the gender in the profile dataset by one-hot-encoding: 'M', 'F', 'O', 'U'\n",
    "* Standardizing the non missing values in the age and income data with sklearn's StandardScaler.\n",
    "* Filling up the None type values in the age and income columns with zeros (mean after standardization)\n",
    "* calculate the membership length and remove the became_member_on field.\n",
    "* Transforming the membership length dataset with sklearn's QuantileTransformer\n",
    "* Creating the training dataset by creating feature vectors for every received offer and creating label for it which puts the offer in one of the following cathegories:\n",
    "    0. not viewed, not completed\n",
    "    1. not viewed but completed\n",
    "    2. viewed but not completed\n",
    "    3. viewed and completed\n",
    "* splitting the dataset into training, validation and test datasets\n",
    "* creating the data loaders\n",
    "---"
   ]
  },
  {
   "cell_type": "code",
   "execution_count": 22,
   "metadata": {},
   "outputs": [],
   "source": [
    "import numpy as np\n",
    "import pandas as pd\n",
    "import matplotlib.pyplot as plt\n",
    "import os\n",
    "from sklearn.preprocessing import StandardScaler, quantile_transform\n",
    "from importlib import reload\n",
    "from source import feature_helpers, exploration_helpers, training_data\n"
   ]
  },
  {
   "cell_type": "code",
   "execution_count": 34,
   "metadata": {},
   "outputs": [],
   "source": [
    "reload(feature_helpers)\n",
    "reload(training_data)\n",
    "from source.training_data import get_training_data"
   ]
  },
  {
   "cell_type": "markdown",
   "metadata": {},
   "source": [
    "### loading the data"
   ]
  },
  {
   "cell_type": "code",
   "execution_count": 3,
   "metadata": {},
   "outputs": [],
   "source": [
    "portfolio = pd.read_json('data/portfolio.json', orient='records', lines=True)\n",
    "profile = pd.read_json('data/profile.json', orient='records', lines=True)\n",
    "transcript = pd.read_json('data/transcript.json', orient='records', lines=True)"
   ]
  },
  {
   "cell_type": "markdown",
   "metadata": {},
   "source": [
    "### Converting the lengths of offers into hours"
   ]
  },
  {
   "cell_type": "code",
   "execution_count": 4,
   "metadata": {},
   "outputs": [],
   "source": [
    "# converting the duration into hours:\n",
    "portfolio.duration = portfolio.duration.apply(lambda x: x * 24)"
   ]
  },
  {
   "cell_type": "markdown",
   "metadata": {},
   "source": [
    "### Extracting transcript values"
   ]
  },
  {
   "cell_type": "code",
   "execution_count": 5,
   "metadata": {},
   "outputs": [],
   "source": [
    "# extracting the transaction values:\n",
    "transcript = exploration_helpers.extract_transcript_values(transcript)"
   ]
  },
  {
   "cell_type": "markdown",
   "metadata": {},
   "source": [
    "### Removing outliers\n",
    "\n",
    "Removing persons from the dataset who have outlier amount of spent money. First the total amount of money spent per person is calculated:"
   ]
  },
  {
   "cell_type": "code",
   "execution_count": 6,
   "metadata": {},
   "outputs": [
    {
     "name": "stdout",
     "output_type": "stream",
     "text": [
      "Read preprocessed data from cache file: cache/profile_total_spent.csv\n"
     ]
    }
   ],
   "source": [
    "cache_dir = 'cache'\n",
    "cache_file = 'profile_total_spent.csv'\n",
    "profile = feature_helpers.get_total_spent(profile, transcript, cache_file=os.path.join(cache_dir, cache_file))"
   ]
  },
  {
   "cell_type": "code",
   "execution_count": 7,
   "metadata": {
    "scrolled": true
   },
   "outputs": [
    {
     "data": {
      "text/html": [
       "<div>\n",
       "<style scoped>\n",
       "    .dataframe tbody tr th:only-of-type {\n",
       "        vertical-align: middle;\n",
       "    }\n",
       "\n",
       "    .dataframe tbody tr th {\n",
       "        vertical-align: top;\n",
       "    }\n",
       "\n",
       "    .dataframe thead th {\n",
       "        text-align: right;\n",
       "    }\n",
       "</style>\n",
       "<table border=\"1\" class=\"dataframe\">\n",
       "  <thead>\n",
       "    <tr style=\"text-align: right;\">\n",
       "      <th></th>\n",
       "      <th>gender</th>\n",
       "      <th>age</th>\n",
       "      <th>id</th>\n",
       "      <th>became_member_on</th>\n",
       "      <th>income</th>\n",
       "      <th>total_spent</th>\n",
       "    </tr>\n",
       "  </thead>\n",
       "  <tbody>\n",
       "    <tr>\n",
       "      <th>0</th>\n",
       "      <td>NaN</td>\n",
       "      <td>118</td>\n",
       "      <td>68be06ca386d4c31939f3a4f0e3dd783</td>\n",
       "      <td>20170212</td>\n",
       "      <td>NaN</td>\n",
       "      <td>20.40</td>\n",
       "    </tr>\n",
       "    <tr>\n",
       "      <th>1</th>\n",
       "      <td>F</td>\n",
       "      <td>55</td>\n",
       "      <td>0610b486422d4921ae7d2bf64640c50b</td>\n",
       "      <td>20170715</td>\n",
       "      <td>112000.0</td>\n",
       "      <td>77.01</td>\n",
       "    </tr>\n",
       "    <tr>\n",
       "      <th>2</th>\n",
       "      <td>NaN</td>\n",
       "      <td>118</td>\n",
       "      <td>38fe809add3b4fcf9315a9694bb96ff5</td>\n",
       "      <td>20180712</td>\n",
       "      <td>NaN</td>\n",
       "      <td>14.30</td>\n",
       "    </tr>\n",
       "    <tr>\n",
       "      <th>3</th>\n",
       "      <td>F</td>\n",
       "      <td>75</td>\n",
       "      <td>78afa995795e4d85b5d9ceeca43f5fef</td>\n",
       "      <td>20170509</td>\n",
       "      <td>100000.0</td>\n",
       "      <td>159.27</td>\n",
       "    </tr>\n",
       "    <tr>\n",
       "      <th>4</th>\n",
       "      <td>NaN</td>\n",
       "      <td>118</td>\n",
       "      <td>a03223e636434f42ac4c3df47e8bac43</td>\n",
       "      <td>20170804</td>\n",
       "      <td>NaN</td>\n",
       "      <td>4.65</td>\n",
       "    </tr>\n",
       "  </tbody>\n",
       "</table>\n",
       "</div>"
      ],
      "text/plain": [
       "  gender  age                                id  became_member_on    income  \\\n",
       "0    NaN  118  68be06ca386d4c31939f3a4f0e3dd783          20170212       NaN   \n",
       "1      F   55  0610b486422d4921ae7d2bf64640c50b          20170715  112000.0   \n",
       "2    NaN  118  38fe809add3b4fcf9315a9694bb96ff5          20180712       NaN   \n",
       "3      F   75  78afa995795e4d85b5d9ceeca43f5fef          20170509  100000.0   \n",
       "4    NaN  118  a03223e636434f42ac4c3df47e8bac43          20170804       NaN   \n",
       "\n",
       "   total_spent  \n",
       "0        20.40  \n",
       "1        77.01  \n",
       "2        14.30  \n",
       "3       159.27  \n",
       "4         4.65  "
      ]
     },
     "execution_count": 7,
     "metadata": {},
     "output_type": "execute_result"
    }
   ],
   "source": [
    "profile.head()"
   ]
  },
  {
   "cell_type": "markdown",
   "metadata": {},
   "source": [
    "The the outliers are removed:"
   ]
  },
  {
   "cell_type": "code",
   "execution_count": 8,
   "metadata": {
    "scrolled": false
   },
   "outputs": [
    {
     "name": "stdout",
     "output_type": "stream",
     "text": [
      "Number of people originally: 17000\n",
      "Number of transcript data originally: 306534\n",
      "Number of people without outliers: 15840\n",
      "Number of transcript data without outliers: 284047\n"
     ]
    }
   ],
   "source": [
    "print('Number of people originally: {}'.format(len(profile.index)))\n",
    "print('Number of transcript data originally: {}'.format(len(transcript.index)))\n",
    "\n",
    "# removing outplier spending people.\n",
    "profile, transcript = feature_helpers.remove_outliers(profile, transcript, lower_threshold=0, upper_threshold=300)\n",
    "\n",
    "print('Number of people without outliers: {}'.format(len(profile.index)))\n",
    "print('Number of transcript data without outliers: {}'.format(len(transcript.index)))"
   ]
  },
  {
   "cell_type": "markdown",
   "metadata": {},
   "source": [
    "It can be seen that around 6.8% of the people and around 7.3% of the total transcript data is removed."
   ]
  },
  {
   "cell_type": "markdown",
   "metadata": {},
   "source": [
    "### One-hot-encoding the gender\n",
    "\n",
    "For further use the gender has to be encoded using one-hot-encoding."
   ]
  },
  {
   "cell_type": "code",
   "execution_count": 9,
   "metadata": {
    "scrolled": true
   },
   "outputs": [
    {
     "data": {
      "text/html": [
       "<div>\n",
       "<style scoped>\n",
       "    .dataframe tbody tr th:only-of-type {\n",
       "        vertical-align: middle;\n",
       "    }\n",
       "\n",
       "    .dataframe tbody tr th {\n",
       "        vertical-align: top;\n",
       "    }\n",
       "\n",
       "    .dataframe thead th {\n",
       "        text-align: right;\n",
       "    }\n",
       "</style>\n",
       "<table border=\"1\" class=\"dataframe\">\n",
       "  <thead>\n",
       "    <tr style=\"text-align: right;\">\n",
       "      <th></th>\n",
       "      <th>F</th>\n",
       "      <th>M</th>\n",
       "      <th>O</th>\n",
       "      <th>U</th>\n",
       "      <th>age</th>\n",
       "      <th>id</th>\n",
       "      <th>became_member_on</th>\n",
       "      <th>income</th>\n",
       "      <th>total_spent</th>\n",
       "    </tr>\n",
       "  </thead>\n",
       "  <tbody>\n",
       "    <tr>\n",
       "      <th>1</th>\n",
       "      <td>1</td>\n",
       "      <td>0</td>\n",
       "      <td>0</td>\n",
       "      <td>0</td>\n",
       "      <td>55</td>\n",
       "      <td>0610b486422d4921ae7d2bf64640c50b</td>\n",
       "      <td>20170715</td>\n",
       "      <td>112000.0</td>\n",
       "      <td>77.01</td>\n",
       "    </tr>\n",
       "    <tr>\n",
       "      <th>2</th>\n",
       "      <td>0</td>\n",
       "      <td>0</td>\n",
       "      <td>0</td>\n",
       "      <td>1</td>\n",
       "      <td>118</td>\n",
       "      <td>38fe809add3b4fcf9315a9694bb96ff5</td>\n",
       "      <td>20180712</td>\n",
       "      <td>NaN</td>\n",
       "      <td>14.30</td>\n",
       "    </tr>\n",
       "    <tr>\n",
       "      <th>3</th>\n",
       "      <td>1</td>\n",
       "      <td>0</td>\n",
       "      <td>0</td>\n",
       "      <td>0</td>\n",
       "      <td>75</td>\n",
       "      <td>78afa995795e4d85b5d9ceeca43f5fef</td>\n",
       "      <td>20170509</td>\n",
       "      <td>100000.0</td>\n",
       "      <td>159.27</td>\n",
       "    </tr>\n",
       "    <tr>\n",
       "      <th>4</th>\n",
       "      <td>0</td>\n",
       "      <td>0</td>\n",
       "      <td>0</td>\n",
       "      <td>1</td>\n",
       "      <td>118</td>\n",
       "      <td>a03223e636434f42ac4c3df47e8bac43</td>\n",
       "      <td>20170804</td>\n",
       "      <td>NaN</td>\n",
       "      <td>4.65</td>\n",
       "    </tr>\n",
       "    <tr>\n",
       "      <th>5</th>\n",
       "      <td>0</td>\n",
       "      <td>1</td>\n",
       "      <td>0</td>\n",
       "      <td>0</td>\n",
       "      <td>68</td>\n",
       "      <td>e2127556f4f64592b11af22de27a7932</td>\n",
       "      <td>20180426</td>\n",
       "      <td>70000.0</td>\n",
       "      <td>57.73</td>\n",
       "    </tr>\n",
       "    <tr>\n",
       "      <th>7</th>\n",
       "      <td>0</td>\n",
       "      <td>0</td>\n",
       "      <td>0</td>\n",
       "      <td>1</td>\n",
       "      <td>118</td>\n",
       "      <td>68617ca6246f4fbc85e91a2a49552598</td>\n",
       "      <td>20171002</td>\n",
       "      <td>NaN</td>\n",
       "      <td>0.24</td>\n",
       "    </tr>\n",
       "    <tr>\n",
       "      <th>8</th>\n",
       "      <td>0</td>\n",
       "      <td>1</td>\n",
       "      <td>0</td>\n",
       "      <td>0</td>\n",
       "      <td>65</td>\n",
       "      <td>389bc3fa690240e798340f5a15918d5c</td>\n",
       "      <td>20180209</td>\n",
       "      <td>53000.0</td>\n",
       "      <td>36.43</td>\n",
       "    </tr>\n",
       "    <tr>\n",
       "      <th>9</th>\n",
       "      <td>0</td>\n",
       "      <td>0</td>\n",
       "      <td>0</td>\n",
       "      <td>1</td>\n",
       "      <td>118</td>\n",
       "      <td>8974fc5686fe429db53ddde067b88302</td>\n",
       "      <td>20161122</td>\n",
       "      <td>NaN</td>\n",
       "      <td>15.62</td>\n",
       "    </tr>\n",
       "    <tr>\n",
       "      <th>10</th>\n",
       "      <td>0</td>\n",
       "      <td>0</td>\n",
       "      <td>0</td>\n",
       "      <td>1</td>\n",
       "      <td>118</td>\n",
       "      <td>c4863c7985cf408faee930f111475da3</td>\n",
       "      <td>20170824</td>\n",
       "      <td>NaN</td>\n",
       "      <td>66.41</td>\n",
       "    </tr>\n",
       "  </tbody>\n",
       "</table>\n",
       "</div>"
      ],
      "text/plain": [
       "    F  M  O  U  age                                id  became_member_on  \\\n",
       "1   1  0  0  0   55  0610b486422d4921ae7d2bf64640c50b          20170715   \n",
       "2   0  0  0  1  118  38fe809add3b4fcf9315a9694bb96ff5          20180712   \n",
       "3   1  0  0  0   75  78afa995795e4d85b5d9ceeca43f5fef          20170509   \n",
       "4   0  0  0  1  118  a03223e636434f42ac4c3df47e8bac43          20170804   \n",
       "5   0  1  0  0   68  e2127556f4f64592b11af22de27a7932          20180426   \n",
       "7   0  0  0  1  118  68617ca6246f4fbc85e91a2a49552598          20171002   \n",
       "8   0  1  0  0   65  389bc3fa690240e798340f5a15918d5c          20180209   \n",
       "9   0  0  0  1  118  8974fc5686fe429db53ddde067b88302          20161122   \n",
       "10  0  0  0  1  118  c4863c7985cf408faee930f111475da3          20170824   \n",
       "\n",
       "      income  total_spent  \n",
       "1   112000.0        77.01  \n",
       "2        NaN        14.30  \n",
       "3   100000.0       159.27  \n",
       "4        NaN         4.65  \n",
       "5    70000.0        57.73  \n",
       "7        NaN         0.24  \n",
       "8    53000.0        36.43  \n",
       "9        NaN        15.62  \n",
       "10       NaN        66.41  "
      ]
     },
     "execution_count": 9,
     "metadata": {},
     "output_type": "execute_result"
    }
   ],
   "source": [
    "# encoding gender:\n",
    "profile = feature_helpers.encode_gender(profile)\n",
    "\n",
    "profile[1: 10]"
   ]
  },
  {
   "cell_type": "markdown",
   "metadata": {},
   "source": [
    "### Standardizing age and income\n",
    "\n",
    "standardizing the age and income data using sklearn's StandarScaler."
   ]
  },
  {
   "cell_type": "code",
   "execution_count": 10,
   "metadata": {
    "scrolled": true
   },
   "outputs": [],
   "source": [
    "# instantiating the standard scaler object:\n",
    "standard_scaler = StandardScaler()\n",
    "\n",
    "# transforming the data:\n",
    "profile.loc[(profile.age == 118), 'age'] = None  # standard scaler scips none type values\n",
    "profile.loc[:, 'age'] = standard_scaler.fit_transform(profile.age.values.reshape(-1, 1))\n",
    "profile.loc[:, 'income'] = standard_scaler.fit_transform(profile.income.values.reshape(-1, 1))"
   ]
  },
  {
   "cell_type": "markdown",
   "metadata": {},
   "source": [
    "### Filling up None type values\n",
    "\n",
    "The age and income data of the people who belong to the Unknown cathegory will be filled with the respective means."
   ]
  },
  {
   "cell_type": "code",
   "execution_count": 11,
   "metadata": {
    "scrolled": false
   },
   "outputs": [
    {
     "data": {
      "text/html": [
       "<div>\n",
       "<style scoped>\n",
       "    .dataframe tbody tr th:only-of-type {\n",
       "        vertical-align: middle;\n",
       "    }\n",
       "\n",
       "    .dataframe tbody tr th {\n",
       "        vertical-align: top;\n",
       "    }\n",
       "\n",
       "    .dataframe thead th {\n",
       "        text-align: right;\n",
       "    }\n",
       "</style>\n",
       "<table border=\"1\" class=\"dataframe\">\n",
       "  <thead>\n",
       "    <tr style=\"text-align: right;\">\n",
       "      <th></th>\n",
       "      <th>F</th>\n",
       "      <th>M</th>\n",
       "      <th>O</th>\n",
       "      <th>U</th>\n",
       "      <th>age</th>\n",
       "      <th>id</th>\n",
       "      <th>became_member_on</th>\n",
       "      <th>income</th>\n",
       "      <th>total_spent</th>\n",
       "    </tr>\n",
       "  </thead>\n",
       "  <tbody>\n",
       "    <tr>\n",
       "      <th>0</th>\n",
       "      <td>0</td>\n",
       "      <td>0</td>\n",
       "      <td>0</td>\n",
       "      <td>1</td>\n",
       "      <td>0.000000</td>\n",
       "      <td>68be06ca386d4c31939f3a4f0e3dd783</td>\n",
       "      <td>20170212</td>\n",
       "      <td>0.000000</td>\n",
       "      <td>20.40</td>\n",
       "    </tr>\n",
       "    <tr>\n",
       "      <th>1</th>\n",
       "      <td>1</td>\n",
       "      <td>0</td>\n",
       "      <td>0</td>\n",
       "      <td>0</td>\n",
       "      <td>0.048437</td>\n",
       "      <td>0610b486422d4921ae7d2bf64640c50b</td>\n",
       "      <td>20170715</td>\n",
       "      <td>2.214943</td>\n",
       "      <td>77.01</td>\n",
       "    </tr>\n",
       "    <tr>\n",
       "      <th>2</th>\n",
       "      <td>0</td>\n",
       "      <td>0</td>\n",
       "      <td>0</td>\n",
       "      <td>1</td>\n",
       "      <td>0.000000</td>\n",
       "      <td>38fe809add3b4fcf9315a9694bb96ff5</td>\n",
       "      <td>20180712</td>\n",
       "      <td>0.000000</td>\n",
       "      <td>14.30</td>\n",
       "    </tr>\n",
       "    <tr>\n",
       "      <th>3</th>\n",
       "      <td>1</td>\n",
       "      <td>0</td>\n",
       "      <td>0</td>\n",
       "      <td>0</td>\n",
       "      <td>1.193501</td>\n",
       "      <td>78afa995795e4d85b5d9ceeca43f5fef</td>\n",
       "      <td>20170509</td>\n",
       "      <td>1.654475</td>\n",
       "      <td>159.27</td>\n",
       "    </tr>\n",
       "    <tr>\n",
       "      <th>4</th>\n",
       "      <td>0</td>\n",
       "      <td>0</td>\n",
       "      <td>0</td>\n",
       "      <td>1</td>\n",
       "      <td>0.000000</td>\n",
       "      <td>a03223e636434f42ac4c3df47e8bac43</td>\n",
       "      <td>20170804</td>\n",
       "      <td>0.000000</td>\n",
       "      <td>4.65</td>\n",
       "    </tr>\n",
       "  </tbody>\n",
       "</table>\n",
       "</div>"
      ],
      "text/plain": [
       "   F  M  O  U       age                                id  became_member_on  \\\n",
       "0  0  0  0  1  0.000000  68be06ca386d4c31939f3a4f0e3dd783          20170212   \n",
       "1  1  0  0  0  0.048437  0610b486422d4921ae7d2bf64640c50b          20170715   \n",
       "2  0  0  0  1  0.000000  38fe809add3b4fcf9315a9694bb96ff5          20180712   \n",
       "3  1  0  0  0  1.193501  78afa995795e4d85b5d9ceeca43f5fef          20170509   \n",
       "4  0  0  0  1  0.000000  a03223e636434f42ac4c3df47e8bac43          20170804   \n",
       "\n",
       "     income  total_spent  \n",
       "0  0.000000        20.40  \n",
       "1  2.214943        77.01  \n",
       "2  0.000000        14.30  \n",
       "3  1.654475       159.27  \n",
       "4  0.000000         4.65  "
      ]
     },
     "execution_count": 11,
     "metadata": {},
     "output_type": "execute_result"
    }
   ],
   "source": [
    "# filling up the unknown values in the age column:\n",
    "profile.loc[profile.age.isna(), 'age'] = 0\n",
    "profile.loc[profile.income.isna(), 'income'] = 0\n",
    "\n",
    "profile.head()"
   ]
  },
  {
   "cell_type": "markdown",
   "metadata": {},
   "source": [
    "### Calculating membership length\n",
    "\n",
    "Calculating the membership length and removing the became_member_on field."
   ]
  },
  {
   "cell_type": "code",
   "execution_count": 12,
   "metadata": {
    "scrolled": true
   },
   "outputs": [
    {
     "data": {
      "text/html": [
       "<div>\n",
       "<style scoped>\n",
       "    .dataframe tbody tr th:only-of-type {\n",
       "        vertical-align: middle;\n",
       "    }\n",
       "\n",
       "    .dataframe tbody tr th {\n",
       "        vertical-align: top;\n",
       "    }\n",
       "\n",
       "    .dataframe thead th {\n",
       "        text-align: right;\n",
       "    }\n",
       "</style>\n",
       "<table border=\"1\" class=\"dataframe\">\n",
       "  <thead>\n",
       "    <tr style=\"text-align: right;\">\n",
       "      <th></th>\n",
       "      <th>F</th>\n",
       "      <th>M</th>\n",
       "      <th>O</th>\n",
       "      <th>U</th>\n",
       "      <th>age</th>\n",
       "      <th>id</th>\n",
       "      <th>income</th>\n",
       "      <th>total_spent</th>\n",
       "      <th>membership_length</th>\n",
       "    </tr>\n",
       "  </thead>\n",
       "  <tbody>\n",
       "    <tr>\n",
       "      <th>0</th>\n",
       "      <td>0</td>\n",
       "      <td>0</td>\n",
       "      <td>0</td>\n",
       "      <td>1</td>\n",
       "      <td>0.000000</td>\n",
       "      <td>68be06ca386d4c31939f3a4f0e3dd783</td>\n",
       "      <td>0.000000</td>\n",
       "      <td>20.40</td>\n",
       "      <td>529</td>\n",
       "    </tr>\n",
       "    <tr>\n",
       "      <th>1</th>\n",
       "      <td>1</td>\n",
       "      <td>0</td>\n",
       "      <td>0</td>\n",
       "      <td>0</td>\n",
       "      <td>0.048437</td>\n",
       "      <td>0610b486422d4921ae7d2bf64640c50b</td>\n",
       "      <td>2.214943</td>\n",
       "      <td>77.01</td>\n",
       "      <td>376</td>\n",
       "    </tr>\n",
       "    <tr>\n",
       "      <th>2</th>\n",
       "      <td>0</td>\n",
       "      <td>0</td>\n",
       "      <td>0</td>\n",
       "      <td>1</td>\n",
       "      <td>0.000000</td>\n",
       "      <td>38fe809add3b4fcf9315a9694bb96ff5</td>\n",
       "      <td>0.000000</td>\n",
       "      <td>14.30</td>\n",
       "      <td>14</td>\n",
       "    </tr>\n",
       "    <tr>\n",
       "      <th>3</th>\n",
       "      <td>1</td>\n",
       "      <td>0</td>\n",
       "      <td>0</td>\n",
       "      <td>0</td>\n",
       "      <td>1.193501</td>\n",
       "      <td>78afa995795e4d85b5d9ceeca43f5fef</td>\n",
       "      <td>1.654475</td>\n",
       "      <td>159.27</td>\n",
       "      <td>443</td>\n",
       "    </tr>\n",
       "    <tr>\n",
       "      <th>4</th>\n",
       "      <td>0</td>\n",
       "      <td>0</td>\n",
       "      <td>0</td>\n",
       "      <td>1</td>\n",
       "      <td>0.000000</td>\n",
       "      <td>a03223e636434f42ac4c3df47e8bac43</td>\n",
       "      <td>0.000000</td>\n",
       "      <td>4.65</td>\n",
       "      <td>356</td>\n",
       "    </tr>\n",
       "  </tbody>\n",
       "</table>\n",
       "</div>"
      ],
      "text/plain": [
       "   F  M  O  U       age                                id    income  \\\n",
       "0  0  0  0  1  0.000000  68be06ca386d4c31939f3a4f0e3dd783  0.000000   \n",
       "1  1  0  0  0  0.048437  0610b486422d4921ae7d2bf64640c50b  2.214943   \n",
       "2  0  0  0  1  0.000000  38fe809add3b4fcf9315a9694bb96ff5  0.000000   \n",
       "3  1  0  0  0  1.193501  78afa995795e4d85b5d9ceeca43f5fef  1.654475   \n",
       "4  0  0  0  1  0.000000  a03223e636434f42ac4c3df47e8bac43  0.000000   \n",
       "\n",
       "   total_spent  membership_length  \n",
       "0        20.40                529  \n",
       "1        77.01                376  \n",
       "2        14.30                 14  \n",
       "3       159.27                443  \n",
       "4         4.65                356  "
      ]
     },
     "execution_count": 12,
     "metadata": {},
     "output_type": "execute_result"
    }
   ],
   "source": [
    "profile = exploration_helpers.get_membership_length(profile)\n",
    "\n",
    "profile.head()"
   ]
  },
  {
   "cell_type": "markdown",
   "metadata": {},
   "source": [
    "### Transforming the membership length\n",
    "\n",
    "As the membership length distribution is strongly left skewed, it has to be transformed to an approximate normal distribution using sklearn's quantile_transform method."
   ]
  },
  {
   "cell_type": "code",
   "execution_count": 13,
   "metadata": {
    "scrolled": false
   },
   "outputs": [
    {
     "data": {
      "text/plain": [
       "Text(0.5, 1.0, 'After transformation')"
      ]
     },
     "execution_count": 13,
     "metadata": {},
     "output_type": "execute_result"
    },
    {
     "data": {
      "image/png": "[encoded data removed]",
      "text/plain": [
       "<Figure size 864x360 with 2 Axes>"
      ]
     },
     "metadata": {
      "needs_background": "light"
     },
     "output_type": "display_data"
    }
   ],
   "source": [
    "# plotting the membership length before and after the transformation:\n",
    "fig, axis = plt.subplots(figsize=(12,5), nrows=1, ncols=2)\n",
    "\n",
    "profile.membership_length.plot.density(ax=axis[0])\n",
    "axis[0].set_title('Before transformation')\n",
    "\n",
    "# transforming the membership length to norma distribution\n",
    "profile.loc[:, 'membership_length'] = quantile_transform(profile.membership_length.values.reshape(-1, 1),\n",
    "                                                        n_quantiles=1000,\n",
    "                                                        output_distribution='normal',\n",
    "                                                        copy=True)\n",
    "# standardizing the gotten normal distribution:\n",
    "profile.loc[:, 'membership_length'] = standard_scaler.fit_transform(profile.membership_length.values.reshape(-1, 1))\n",
    "\n",
    "profile.membership_length.plot.density(ax=axis[1])\n",
    "axis[1].set_title('After transformation')"
   ]
  },
  {
   "cell_type": "markdown",
   "metadata": {},
   "source": [
    "### Creating the training data\n",
    "\n",
    "The training data is composed of feature vector - label pairs. Both feature vectors and correspoding labels are manufactured in the followings. These are stored in a DataFrame called training_data. The training_data is also saved into a .csv file, so that it does not have to be re-manufactured every time.\n",
    "\n",
    "There are going to be a training point (feature vector - label pair) for every received offer. The feature vector is going to be composed of the following fields:\n",
    "* gender\n",
    "* age\n",
    "* income\n",
    "* membership length\n",
    "* average spent money a day until receiving the offer\n",
    "* number of received offers until receiving the offer\n",
    "* ratio of viewed / received offers until receiving the offer\n",
    "* ratio of completed / viewed offers until receiving the offer\n",
    "* ratio of completed not viewed / received offers until receiving the offer\n",
    "* number of received offers of this type until receiving the offer\n",
    "* ratio of viewed / received offers of this type until receiving the offer\n",
    "* ratio of completed / viewed offers of this type until receiving the offer\n",
    "* ratio of completed not viewed / received offers of this type until receiving the offer\n",
    "* one-hot-encoding of the currently received offer type\n",
    "\n",
    "The label is going to be the number of one of the following categories regarding the currently received offer:\n",
    "0. not viewed, not completed\n",
    "1. not viewed but completed\n",
    "2. viewed but not completed\n",
    "3. viewed and completed"
   ]
  },
  {
   "cell_type": "markdown",
   "metadata": {},
   "source": [
    "### Test transcript\n",
    "\n",
    "We have created a test_transcript.json file, which contains some transcript data. It contains all the possible situations that can occure during training data generation. It contains only one person for the sake of simplicity. We have checked whether the get_training_data() function works correctly."
   ]
  },
  {
   "cell_type": "code",
   "execution_count": 16,
   "metadata": {
    "scrolled": true
   },
   "outputs": [
    {
     "data": {
      "text/html": [
       "<div>\n",
       "<style scoped>\n",
       "    .dataframe tbody tr th:only-of-type {\n",
       "        vertical-align: middle;\n",
       "    }\n",
       "\n",
       "    .dataframe tbody tr th {\n",
       "        vertical-align: top;\n",
       "    }\n",
       "\n",
       "    .dataframe thead th {\n",
       "        text-align: right;\n",
       "    }\n",
       "</style>\n",
       "<table border=\"1\" class=\"dataframe\">\n",
       "  <thead>\n",
       "    <tr style=\"text-align: right;\">\n",
       "      <th></th>\n",
       "      <th>person</th>\n",
       "      <th>event</th>\n",
       "      <th>value</th>\n",
       "      <th>time</th>\n",
       "    </tr>\n",
       "  </thead>\n",
       "  <tbody>\n",
       "    <tr>\n",
       "      <th>0</th>\n",
       "      <td>78afa995795e4d85b5d9ceeca43f5fef</td>\n",
       "      <td>transaction</td>\n",
       "      <td>{'amount': 0.8300000000000001}</td>\n",
       "      <td>0</td>\n",
       "    </tr>\n",
       "    <tr>\n",
       "      <th>1</th>\n",
       "      <td>78afa995795e4d85b5d9ceeca43f5fef</td>\n",
       "      <td>offer received</td>\n",
       "      <td>{'offer_id': '0b1e1539f2cc45b7b9fa7c272da2e1d7'}</td>\n",
       "      <td>0</td>\n",
       "    </tr>\n",
       "    <tr>\n",
       "      <th>2</th>\n",
       "      <td>78afa995795e4d85b5d9ceeca43f5fef</td>\n",
       "      <td>offer received</td>\n",
       "      <td>{'offer_id': 'ae264e3637204a6fb9bb56bc8210ddfd'}</td>\n",
       "      <td>0</td>\n",
       "    </tr>\n",
       "    <tr>\n",
       "      <th>3</th>\n",
       "      <td>78afa995795e4d85b5d9ceeca43f5fef</td>\n",
       "      <td>offer received</td>\n",
       "      <td>{'offer_id': '4d5c57ea9a6940dd891ad53e9dbe8da0'}</td>\n",
       "      <td>1</td>\n",
       "    </tr>\n",
       "    <tr>\n",
       "      <th>4</th>\n",
       "      <td>78afa995795e4d85b5d9ceeca43f5fef</td>\n",
       "      <td>offer viewed</td>\n",
       "      <td>{'offer id': '4d5c57ea9a6940dd891ad53e9dbe8da0'}</td>\n",
       "      <td>2</td>\n",
       "    </tr>\n",
       "    <tr>\n",
       "      <th>5</th>\n",
       "      <td>78afa995795e4d85b5d9ceeca43f5fef</td>\n",
       "      <td>offer received</td>\n",
       "      <td>{'offer id': '0b1e1539f2cc45b7b9fa7c272da2e1d7'}</td>\n",
       "      <td>4</td>\n",
       "    </tr>\n",
       "    <tr>\n",
       "      <th>6</th>\n",
       "      <td>78afa995795e4d85b5d9ceeca43f5fef</td>\n",
       "      <td>offer viewed</td>\n",
       "      <td>{'offer id': '0b1e1539f2cc45b7b9fa7c272da2e1d7'}</td>\n",
       "      <td>5</td>\n",
       "    </tr>\n",
       "    <tr>\n",
       "      <th>7</th>\n",
       "      <td>78afa995795e4d85b5d9ceeca43f5fef</td>\n",
       "      <td>offer received</td>\n",
       "      <td>{'offer id': '5a8bc65990b245e5a138643cd4eb9837'}</td>\n",
       "      <td>6</td>\n",
       "    </tr>\n",
       "    <tr>\n",
       "      <th>8</th>\n",
       "      <td>78afa995795e4d85b5d9ceeca43f5fef</td>\n",
       "      <td>offer viewed</td>\n",
       "      <td>{'offer id': '5a8bc65990b245e5a138643cd4eb9837'}</td>\n",
       "      <td>7</td>\n",
       "    </tr>\n",
       "    <tr>\n",
       "      <th>9</th>\n",
       "      <td>78afa995795e4d85b5d9ceeca43f5fef</td>\n",
       "      <td>transaction</td>\n",
       "      <td>{'amount': 4.3}</td>\n",
       "      <td>8</td>\n",
       "    </tr>\n",
       "    <tr>\n",
       "      <th>10</th>\n",
       "      <td>78afa995795e4d85b5d9ceeca43f5fef</td>\n",
       "      <td>offer completed</td>\n",
       "      <td>{'offer id': '4d5c57ea9a6940dd891ad53e9dbe8da0'}</td>\n",
       "      <td>9</td>\n",
       "    </tr>\n",
       "    <tr>\n",
       "      <th>11</th>\n",
       "      <td>78afa995795e4d85b5d9ceeca43f5fef</td>\n",
       "      <td>offer received</td>\n",
       "      <td>{'offer_id': 'ae264e3637204a6fb9bb56bc8210ddfd'}</td>\n",
       "      <td>11</td>\n",
       "    </tr>\n",
       "    <tr>\n",
       "      <th>12</th>\n",
       "      <td>78afa995795e4d85b5d9ceeca43f5fef</td>\n",
       "      <td>offer completed</td>\n",
       "      <td>{'offer id': 'ae264e3637204a6fb9bb56bc8210ddfd'}</td>\n",
       "      <td>13</td>\n",
       "    </tr>\n",
       "    <tr>\n",
       "      <th>13</th>\n",
       "      <td>78afa995795e4d85b5d9ceeca43f5fef</td>\n",
       "      <td>offer received</td>\n",
       "      <td>{'offer_id': '4d5c57ea9a6940dd891ad53e9dbe8da0'}</td>\n",
       "      <td>15</td>\n",
       "    </tr>\n",
       "    <tr>\n",
       "      <th>14</th>\n",
       "      <td>78afa995795e4d85b5d9ceeca43f5fef</td>\n",
       "      <td>offer received</td>\n",
       "      <td>{'offer_id': 'ae264e3637204a6fb9bb56bc8210ddfd'}</td>\n",
       "      <td>20</td>\n",
       "    </tr>\n",
       "    <tr>\n",
       "      <th>15</th>\n",
       "      <td>78afa995795e4d85b5d9ceeca43f5fef</td>\n",
       "      <td>offer completed</td>\n",
       "      <td>{'offer id': '0b1e1539f2cc45b7b9fa7c272da2e1d7'}</td>\n",
       "      <td>243</td>\n",
       "    </tr>\n",
       "  </tbody>\n",
       "</table>\n",
       "</div>"
      ],
      "text/plain": [
       "                              person            event  \\\n",
       "0   78afa995795e4d85b5d9ceeca43f5fef      transaction   \n",
       "1   78afa995795e4d85b5d9ceeca43f5fef   offer received   \n",
       "2   78afa995795e4d85b5d9ceeca43f5fef   offer received   \n",
       "3   78afa995795e4d85b5d9ceeca43f5fef   offer received   \n",
       "4   78afa995795e4d85b5d9ceeca43f5fef     offer viewed   \n",
       "5   78afa995795e4d85b5d9ceeca43f5fef   offer received   \n",
       "6   78afa995795e4d85b5d9ceeca43f5fef     offer viewed   \n",
       "7   78afa995795e4d85b5d9ceeca43f5fef   offer received   \n",
       "8   78afa995795e4d85b5d9ceeca43f5fef     offer viewed   \n",
       "9   78afa995795e4d85b5d9ceeca43f5fef      transaction   \n",
       "10  78afa995795e4d85b5d9ceeca43f5fef  offer completed   \n",
       "11  78afa995795e4d85b5d9ceeca43f5fef   offer received   \n",
       "12  78afa995795e4d85b5d9ceeca43f5fef  offer completed   \n",
       "13  78afa995795e4d85b5d9ceeca43f5fef   offer received   \n",
       "14  78afa995795e4d85b5d9ceeca43f5fef   offer received   \n",
       "15  78afa995795e4d85b5d9ceeca43f5fef  offer completed   \n",
       "\n",
       "                                               value  time  \n",
       "0                     {'amount': 0.8300000000000001}     0  \n",
       "1   {'offer_id': '0b1e1539f2cc45b7b9fa7c272da2e1d7'}     0  \n",
       "2   {'offer_id': 'ae264e3637204a6fb9bb56bc8210ddfd'}     0  \n",
       "3   {'offer_id': '4d5c57ea9a6940dd891ad53e9dbe8da0'}     1  \n",
       "4   {'offer id': '4d5c57ea9a6940dd891ad53e9dbe8da0'}     2  \n",
       "5   {'offer id': '0b1e1539f2cc45b7b9fa7c272da2e1d7'}     4  \n",
       "6   {'offer id': '0b1e1539f2cc45b7b9fa7c272da2e1d7'}     5  \n",
       "7   {'offer id': '5a8bc65990b245e5a138643cd4eb9837'}     6  \n",
       "8   {'offer id': '5a8bc65990b245e5a138643cd4eb9837'}     7  \n",
       "9                                    {'amount': 4.3}     8  \n",
       "10  {'offer id': '4d5c57ea9a6940dd891ad53e9dbe8da0'}     9  \n",
       "11  {'offer_id': 'ae264e3637204a6fb9bb56bc8210ddfd'}    11  \n",
       "12  {'offer id': 'ae264e3637204a6fb9bb56bc8210ddfd'}    13  \n",
       "13  {'offer_id': '4d5c57ea9a6940dd891ad53e9dbe8da0'}    15  \n",
       "14  {'offer_id': 'ae264e3637204a6fb9bb56bc8210ddfd'}    20  \n",
       "15  {'offer id': '0b1e1539f2cc45b7b9fa7c272da2e1d7'}   243  "
      ]
     },
     "execution_count": 16,
     "metadata": {},
     "output_type": "execute_result"
    }
   ],
   "source": [
    "# loading test transcript:\n",
    "test_transcript = pd.read_json('data/test_transcript.json', orient='records', lines=True)\n",
    "test_transcript"
   ]
  },
  {
   "cell_type": "code",
   "execution_count": 17,
   "metadata": {
    "scrolled": true
   },
   "outputs": [
    {
     "name": "stdout",
     "output_type": "stream",
     "text": [
      "pruning received offers.\n",
      "No cache file was given\n",
      "cache was saved to cache/pruned_received_offers_test.csv\n",
      "pruning is complete.\n",
      "number of training points: 8\n",
      "training dataset was saved to data/test_training_data.csv\n",
      "   F  M  O  U     age   income membership_length\n",
      "0  1  0  0  0  1.1935  1.65447          0.132255\n",
      "1  1  0  0  0  1.1935  1.65447          0.132255\n",
      "2  1  0  0  0  1.1935  1.65447          0.132255\n",
      "3  1  0  0  0  1.1935  1.65447          0.132255\n",
      "4  1  0  0  0  1.1935  1.65447          0.132255\n",
      "5  1  0  0  0  1.1935  1.65447          0.132255\n",
      "6  1  0  0  0  1.1935  1.65447          0.132255\n",
      "7  1  0  0  0  1.1935  1.65447          0.132255\n",
      "  av_money_spent num_received viewed/received completed/viewed  \\\n",
      "0              0            0               0                0   \n",
      "1              0            0               0                0   \n",
      "2          19.92            2               0                0   \n",
      "3           4.98            3        0.333333                0   \n",
      "4           3.32            4             0.5                0   \n",
      "5        11.1927            5             0.6              0.5   \n",
      "6          8.208            6             0.5              0.5   \n",
      "7          6.156            7        0.428571              0.5   \n",
      "\n",
      "  completed_not_viewed num_received_this viewed/received_this  \\\n",
      "0                    0                 0                    0   \n",
      "1                    0                 0                    0   \n",
      "2                    0                 0                    0   \n",
      "3                    0                 1                    0   \n",
      "4                    0                 0                    0   \n",
      "5                    0                 1                    0   \n",
      "6             0.166667                 1                    1   \n",
      "7             0.142857                 2                    0   \n",
      "\n",
      "  completed/viewed_this  \n",
      "0                     0  \n",
      "1                     0  \n",
      "2                     0  \n",
      "3                     0  \n",
      "4                     0  \n",
      "5                     0  \n",
      "6                     1  \n",
      "7                     0  \n",
      "  completed_not_viewed_this offer_0 offer_1 offer_2 offer_3 offer_4 offer_5  \\\n",
      "0                         0       0       0       0       0       1       0   \n",
      "1                         0       1       0       0       0       0       0   \n",
      "2                         0       0       1       0       0       0       0   \n",
      "3                         0       0       0       0       0       1       0   \n",
      "4                         0       0       0       0       0       0       0   \n",
      "5                         0       1       0       0       0       0       0   \n",
      "6                         0       0       1       0       0       0       0   \n",
      "7                       0.5       1       0       0       0       0       0   \n",
      "\n",
      "  offer_6 offer_7 offer_8 offer_9 label  \n",
      "0       0       0       0       0     2  \n",
      "1       0       0       0       0     1  \n",
      "2       0       0       0       0     3  \n",
      "3       0       0       0       0     3  \n",
      "4       0       1       0       0     2  \n",
      "5       0       0       0       0     1  \n",
      "6       0       0       0       0     0  \n",
      "7       0       0       0       0     0  \n"
     ]
    }
   ],
   "source": [
    "# extracting the transaction values:\n",
    "test_transcript = exploration_helpers.extract_transcript_values(test_transcript)\n",
    "\n",
    "test_training_data = get_training_data(profile, test_transcript, portfolio,\n",
    "                                       target_dir='data', target_file='test_training_data.csv', \n",
    "                                       cache_dir='cache', pruning_cache=None,\n",
    "                                       pruning_cache_file_to_write='pruned_received_offers_test.csv')\n",
    "\n",
    "\n",
    "print(test_training_data.iloc[:, 0:7])\n",
    "print(test_training_data.iloc[:, 7:15])\n",
    "print(test_training_data.iloc[:, 15:])"
   ]
  },
  {
   "cell_type": "markdown",
   "metadata": {},
   "source": [
    "### Training data generation\n",
    "\n",
    "After we made sure that the training data generation works just fine, we run the function on the real transcript data and created the real training_data.csv file."
   ]
  },
  {
   "cell_type": "code",
   "execution_count": 35,
   "metadata": {
    "scrolled": true
   },
   "outputs": [
    {
     "name": "stdout",
     "output_type": "stream",
     "text": [
      "pruning received offers.\n",
      "Read pruned data from cache file:  cache/pruned_received_offers.csv\n",
      "pruning is complete.\n",
      "number of training points: 61324\n",
      "1000 out of 61324 training points are complete.\n",
      "2000 out of 61324 training points are complete.\n",
      "3000 out of 61324 training points are complete.\n",
      "4000 out of 61324 training points are complete.\n",
      "5000 out of 61324 training points are complete.\n",
      "6000 out of 61324 training points are complete.\n",
      "7000 out of 61324 training points are complete.\n",
      "8000 out of 61324 training points are complete.\n",
      "9000 out of 61324 training points are complete.\n",
      "10000 out of 61324 training points are complete.\n",
      "11000 out of 61324 training points are complete.\n",
      "12000 out of 61324 training points are complete.\n",
      "13000 out of 61324 training points are complete.\n",
      "14000 out of 61324 training points are complete.\n",
      "15000 out of 61324 training points are complete.\n",
      "16000 out of 61324 training points are complete.\n",
      "17000 out of 61324 training points are complete.\n",
      "18000 out of 61324 training points are complete.\n",
      "19000 out of 61324 training points are complete.\n",
      "20000 out of 61324 training points are complete.\n",
      "21000 out of 61324 training points are complete.\n",
      "22000 out of 61324 training points are complete.\n",
      "23000 out of 61324 training points are complete.\n",
      "24000 out of 61324 training points are complete.\n",
      "25000 out of 61324 training points are complete.\n",
      "26000 out of 61324 training points are complete.\n",
      "27000 out of 61324 training points are complete.\n",
      "28000 out of 61324 training points are complete.\n",
      "29000 out of 61324 training points are complete.\n",
      "30000 out of 61324 training points are complete.\n",
      "31000 out of 61324 training points are complete.\n",
      "32000 out of 61324 training points are complete.\n",
      "33000 out of 61324 training points are complete.\n",
      "34000 out of 61324 training points are complete.\n",
      "35000 out of 61324 training points are complete.\n",
      "36000 out of 61324 training points are complete.\n",
      "37000 out of 61324 training points are complete.\n",
      "38000 out of 61324 training points are complete.\n",
      "39000 out of 61324 training points are complete.\n",
      "40000 out of 61324 training points are complete.\n",
      "41000 out of 61324 training points are complete.\n",
      "42000 out of 61324 training points are complete.\n",
      "43000 out of 61324 training points are complete.\n",
      "44000 out of 61324 training points are complete.\n",
      "45000 out of 61324 training points are complete.\n",
      "46000 out of 61324 training points are complete.\n",
      "47000 out of 61324 training points are complete.\n",
      "48000 out of 61324 training points are complete.\n",
      "49000 out of 61324 training points are complete.\n",
      "50000 out of 61324 training points are complete.\n",
      "51000 out of 61324 training points are complete.\n",
      "52000 out of 61324 training points are complete.\n",
      "53000 out of 61324 training points are complete.\n",
      "54000 out of 61324 training points are complete.\n",
      "55000 out of 61324 training points are complete.\n",
      "56000 out of 61324 training points are complete.\n",
      "57000 out of 61324 training points are complete.\n",
      "58000 out of 61324 training points are complete.\n",
      "59000 out of 61324 training points are complete.\n",
      "60000 out of 61324 training points are complete.\n",
      "61000 out of 61324 training points are complete.\n",
      "training dataset was saved to data/training_data.csv\n"
     ]
    }
   ],
   "source": [
    "training_data_df = get_training_data(profile, transcript, portfolio,\n",
    "                                  target_dir='data', target_file='training_data.csv',\n",
    "                                  cache_dir='cache', pruning_cache='pruned_received_offers.csv')\n"
   ]
  },
  {
   "cell_type": "code",
   "execution_count": 36,
   "metadata": {
    "scrolled": true
   },
   "outputs": [
    {
     "data": {
      "text/html": [
       "<div>\n",
       "<style scoped>\n",
       "    .dataframe tbody tr th:only-of-type {\n",
       "        vertical-align: middle;\n",
       "    }\n",
       "\n",
       "    .dataframe tbody tr th {\n",
       "        vertical-align: top;\n",
       "    }\n",
       "\n",
       "    .dataframe thead th {\n",
       "        text-align: right;\n",
       "    }\n",
       "</style>\n",
       "<table border=\"1\" class=\"dataframe\">\n",
       "  <thead>\n",
       "    <tr style=\"text-align: right;\">\n",
       "      <th></th>\n",
       "      <th>F</th>\n",
       "      <th>M</th>\n",
       "      <th>O</th>\n",
       "      <th>U</th>\n",
       "      <th>age</th>\n",
       "      <th>income</th>\n",
       "      <th>membership_length</th>\n",
       "      <th>av_money_spent</th>\n",
       "      <th>num_received</th>\n",
       "      <th>viewed/received</th>\n",
       "      <th>...</th>\n",
       "      <th>offer_1</th>\n",
       "      <th>offer_2</th>\n",
       "      <th>offer_3</th>\n",
       "      <th>offer_4</th>\n",
       "      <th>offer_5</th>\n",
       "      <th>offer_6</th>\n",
       "      <th>offer_7</th>\n",
       "      <th>offer_8</th>\n",
       "      <th>offer_9</th>\n",
       "      <th>label</th>\n",
       "    </tr>\n",
       "  </thead>\n",
       "  <tbody>\n",
       "    <tr>\n",
       "      <th>0</th>\n",
       "      <td>1</td>\n",
       "      <td>0</td>\n",
       "      <td>0</td>\n",
       "      <td>0</td>\n",
       "      <td>1.1935</td>\n",
       "      <td>1.65447</td>\n",
       "      <td>0.132255</td>\n",
       "      <td>0</td>\n",
       "      <td>0</td>\n",
       "      <td>0</td>\n",
       "      <td>...</td>\n",
       "      <td>0</td>\n",
       "      <td>0</td>\n",
       "      <td>1</td>\n",
       "      <td>0</td>\n",
       "      <td>0</td>\n",
       "      <td>0</td>\n",
       "      <td>0</td>\n",
       "      <td>0</td>\n",
       "      <td>0</td>\n",
       "      <td>3</td>\n",
       "    </tr>\n",
       "    <tr>\n",
       "      <th>1</th>\n",
       "      <td>0</td>\n",
       "      <td>0</td>\n",
       "      <td>0</td>\n",
       "      <td>1</td>\n",
       "      <td>0</td>\n",
       "      <td>0</td>\n",
       "      <td>-0.0112855</td>\n",
       "      <td>0</td>\n",
       "      <td>0</td>\n",
       "      <td>0</td>\n",
       "      <td>...</td>\n",
       "      <td>0</td>\n",
       "      <td>0</td>\n",
       "      <td>0</td>\n",
       "      <td>1</td>\n",
       "      <td>0</td>\n",
       "      <td>0</td>\n",
       "      <td>0</td>\n",
       "      <td>0</td>\n",
       "      <td>0</td>\n",
       "      <td>2</td>\n",
       "    </tr>\n",
       "    <tr>\n",
       "      <th>2</th>\n",
       "      <td>0</td>\n",
       "      <td>1</td>\n",
       "      <td>0</td>\n",
       "      <td>0</td>\n",
       "      <td>0.792728</td>\n",
       "      <td>0.253302</td>\n",
       "      <td>-1.24502</td>\n",
       "      <td>0</td>\n",
       "      <td>0</td>\n",
       "      <td>0</td>\n",
       "      <td>...</td>\n",
       "      <td>0</td>\n",
       "      <td>0</td>\n",
       "      <td>0</td>\n",
       "      <td>0</td>\n",
       "      <td>0</td>\n",
       "      <td>0</td>\n",
       "      <td>0</td>\n",
       "      <td>0</td>\n",
       "      <td>1</td>\n",
       "      <td>2</td>\n",
       "    </tr>\n",
       "    <tr>\n",
       "      <th>3</th>\n",
       "      <td>0</td>\n",
       "      <td>0</td>\n",
       "      <td>0</td>\n",
       "      <td>1</td>\n",
       "      <td>0</td>\n",
       "      <td>0</td>\n",
       "      <td>-0.253576</td>\n",
       "      <td>0</td>\n",
       "      <td>0</td>\n",
       "      <td>0</td>\n",
       "      <td>...</td>\n",
       "      <td>1</td>\n",
       "      <td>0</td>\n",
       "      <td>0</td>\n",
       "      <td>0</td>\n",
       "      <td>0</td>\n",
       "      <td>0</td>\n",
       "      <td>0</td>\n",
       "      <td>0</td>\n",
       "      <td>0</td>\n",
       "      <td>2</td>\n",
       "    </tr>\n",
       "    <tr>\n",
       "      <th>4</th>\n",
       "      <td>0</td>\n",
       "      <td>1</td>\n",
       "      <td>0</td>\n",
       "      <td>0</td>\n",
       "      <td>0.620969</td>\n",
       "      <td>-0.540695</td>\n",
       "      <td>-0.865163</td>\n",
       "      <td>0</td>\n",
       "      <td>0</td>\n",
       "      <td>0</td>\n",
       "      <td>...</td>\n",
       "      <td>0</td>\n",
       "      <td>0</td>\n",
       "      <td>0</td>\n",
       "      <td>0</td>\n",
       "      <td>0</td>\n",
       "      <td>0</td>\n",
       "      <td>0</td>\n",
       "      <td>1</td>\n",
       "      <td>0</td>\n",
       "      <td>1</td>\n",
       "    </tr>\n",
       "  </tbody>\n",
       "</table>\n",
       "<p>5 rows × 27 columns</p>\n",
       "</div>"
      ],
      "text/plain": [
       "   F  M  O  U       age    income membership_length av_money_spent  \\\n",
       "0  1  0  0  0    1.1935   1.65447          0.132255              0   \n",
       "1  0  0  0  1         0         0        -0.0112855              0   \n",
       "2  0  1  0  0  0.792728  0.253302          -1.24502              0   \n",
       "3  0  0  0  1         0         0         -0.253576              0   \n",
       "4  0  1  0  0  0.620969 -0.540695         -0.865163              0   \n",
       "\n",
       "  num_received viewed/received  ... offer_1 offer_2 offer_3 offer_4 offer_5  \\\n",
       "0            0               0  ...       0       0       1       0       0   \n",
       "1            0               0  ...       0       0       0       1       0   \n",
       "2            0               0  ...       0       0       0       0       0   \n",
       "3            0               0  ...       1       0       0       0       0   \n",
       "4            0               0  ...       0       0       0       0       0   \n",
       "\n",
       "  offer_6 offer_7 offer_8 offer_9 label  \n",
       "0       0       0       0       0     3  \n",
       "1       0       0       0       0     2  \n",
       "2       0       0       0       1     2  \n",
       "3       0       0       0       0     2  \n",
       "4       0       0       1       0     1  \n",
       "\n",
       "[5 rows x 27 columns]"
      ]
     },
     "execution_count": 36,
     "metadata": {},
     "output_type": "execute_result"
    }
   ],
   "source": [
    "training_data_df.head()"
   ]
  },
  {
   "cell_type": "code",
   "execution_count": 37,
   "metadata": {
    "scrolled": true
   },
   "outputs": [
    {
     "data": {
      "text/plain": [
       "<matplotlib.axes._subplots.AxesSubplot at 0x7fe0390c0f40>"
      ]
     },
     "execution_count": 37,
     "metadata": {},
     "output_type": "execute_result"
    },
    {
     "data": {
      "image/png": "[encoded data removed]",
      "text/plain": [
       "<Figure size 360x360 with 1 Axes>"
      ]
     },
     "metadata": {
      "needs_background": "light"
     },
     "output_type": "display_data"
    }
   ],
   "source": [
    "# checking how many data are there for each label:\n",
    "label_counts_df = training_data_df.label.value_counts().sort_index()\n",
    "fig = plt.figure(figsize=(5,5))\n",
    "label_counts_df.plot.bar()"
   ]
  },
  {
   "cell_type": "markdown",
   "metadata": {},
   "source": [
    "The number of training samples in the classes is quite different, so it will have to be considered during cross entropy loss calculation. (Weighing factor)"
   ]
  },
  {
   "cell_type": "markdown",
   "metadata": {},
   "source": [
    "### Standardizing the generated data:"
   ]
  },
  {
   "cell_type": "code",
   "execution_count": 38,
   "metadata": {
    "scrolled": false
   },
   "outputs": [
    {
     "data": {
      "text/plain": [
       "Index(['F', 'M', 'O', 'U', 'age', 'income', 'membership_length',\n",
       "       'av_money_spent', 'num_received', 'viewed/received', 'completed/viewed',\n",
       "       'completed_not_viewed', 'num_received_this', 'viewed/received_this',\n",
       "       'completed/viewed_this', 'completed_not_viewed_this', 'offer_0',\n",
       "       'offer_1', 'offer_2', 'offer_3', 'offer_4', 'offer_5', 'offer_6',\n",
       "       'offer_7', 'offer_8', 'offer_9', 'label'],\n",
       "      dtype='object')"
      ]
     },
     "execution_count": 38,
     "metadata": {},
     "output_type": "execute_result"
    }
   ],
   "source": [
    "training_data_df.columns"
   ]
  },
  {
   "cell_type": "code",
   "execution_count": 39,
   "metadata": {},
   "outputs": [],
   "source": [
    "columns = ['av_money_spent', 'num_received', 'viewed/received', 'completed/viewed',\n",
    "           'completed_not_viewed', 'num_received_this', 'viewed/received_this',\n",
    "           'completed/viewed_this', 'completed_not_viewed_this']\n",
    "\n",
    "training_data_df.loc[:, columns] = standard_scaler.fit_transform(training_data_df.loc[:, columns].values)"
   ]
  },
  {
   "cell_type": "markdown",
   "metadata": {},
   "source": [
    "Saving again the standardized training data"
   ]
  },
  {
   "cell_type": "code",
   "execution_count": 40,
   "metadata": {},
   "outputs": [
    {
     "name": "stdout",
     "output_type": "stream",
     "text": [
      "training dataset was saved to data/training_data_standardized.csv\n"
     ]
    }
   ],
   "source": [
    "target_dir = 'data'\n",
    "target_file = 'training_data_standardized.csv'\n",
    "with open(os.path.join(target_dir, target_file), 'w'):\n",
    "    training_data_df.to_csv(os.path.join(target_dir, target_file))\n",
    "    print('training dataset was saved to {}'.format(os.path.join(target_dir, target_file)))"
   ]
  },
  {
   "cell_type": "code",
   "execution_count": null,
   "metadata": {},
   "outputs": [],
   "source": []
  }
 ],
 "metadata": {
  "kernelspec": {
   "display_name": "Python 3",
   "language": "python",
   "name": "python3"
  },
  "language_info": {
   "codemirror_mode": {
    "name": "ipython",
    "version": 3
   },
   "file_extension": ".py",
   "mimetype": "text/x-python",
   "name": "python",
   "nbconvert_exporter": "python",
   "pygments_lexer": "ipython3",
   "version": "3.8.2"
  }
 },
 "nbformat": 4,
 "nbformat_minor": 4
}
