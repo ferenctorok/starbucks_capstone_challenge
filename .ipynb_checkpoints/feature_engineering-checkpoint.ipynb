{
 "cells": [
  {
   "cell_type": "markdown",
   "metadata": {},
   "source": [
    "# Feature engineering notebook\n",
    "\n",
    "In this notebook the feature engineering part of the data preprocessing takes place."
   ]
  },
  {
   "cell_type": "markdown",
   "metadata": {},
   "source": [
    "In the data exploration notebook we have seen that there are two types of profile data points. One in which all the fields are complete and another in which gender, income and also age data are missing. The number of the latter datapoints is 2175 compared to the number of all the data points 17000. These datapoints could be ommited and still many valid training points would remain. However The people who refuse to give the app their personal data could also be viewed as a special group and hence it is worth it to also keep these points in the data set. \n",
    "\n",
    "For this the following solution is used:\n",
    "* Gender is one hot encoded into the 3 buckets : 'F', 'M', 'U' where the latter stands for the unknown data points.\n",
    "* The age and income data of the unknown people is replaced with the respective means."
   ]
  },
  {
   "cell_type": "code",
   "execution_count": null,
   "metadata": {},
   "outputs": [],
   "source": [
    "\n"
   ]
  }
 ],
 "metadata": {
  "kernelspec": {
   "display_name": "Python 3",
   "language": "python",
   "name": "python3"
  },
  "language_info": {
   "codemirror_mode": {
    "name": "ipython",
    "version": 3
   },
   "file_extension": ".py",
   "mimetype": "text/x-python",
   "name": "python",
   "nbconvert_exporter": "python",
   "pygments_lexer": "ipython3",
   "version": "3.8.2"
  }
 },
 "nbformat": 4,
 "nbformat_minor": 4
}
